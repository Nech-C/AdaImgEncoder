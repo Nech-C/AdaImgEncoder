{
 "cells": [
  {
   "cell_type": "code",
   "execution_count": 2,
   "metadata": {},
   "outputs": [],
   "source": [
    "import torch"
   ]
  },
  {
   "cell_type": "markdown",
   "metadata": {},
   "source": [
    "Documentation for the clip model is at https://huggingface.co/docs/transformers/v4.42.0/en/model_doc/clip#transformers.CLIPTextModel"
   ]
  },
  {
   "cell_type": "markdown",
   "metadata": {},
   "source": [
    "Use the text encoder in CLIP to encode images"
   ]
  },
  {
   "cell_type": "code",
   "execution_count": 3,
   "metadata": {},
   "outputs": [
    {
     "name": "stderr",
     "output_type": "stream",
     "text": [
      "c:\\Users\\Nech\\anaconda3\\envs\\AdaImgEncoder\\Lib\\site-packages\\tqdm\\auto.py:21: TqdmWarning: IProgress not found. Please update jupyter and ipywidgets. See https://ipywidgets.readthedocs.io/en/stable/user_install.html\n",
      "  from .autonotebook import tqdm as notebook_tqdm\n"
     ]
    }
   ],
   "source": [
    "from transformers import AutoTokenizer, CLIPTextModelWithProjection\n",
    "tokenizer = AutoTokenizer.from_pretrained(\"openai/clip-vit-large-patch14\")\n",
    "textModel = CLIPTextModelWithProjection.from_pretrained(\"openai/clip-vit-large-patch14\")"
   ]
  },
  {
   "cell_type": "code",
   "execution_count": 4,
   "metadata": {},
   "outputs": [
    {
     "name": "stdout",
     "output_type": "stream",
     "text": [
      "CLIPTextModelWithProjection(\n",
      "  (text_model): CLIPTextTransformer(\n",
      "    (embeddings): CLIPTextEmbeddings(\n",
      "      (token_embedding): Embedding(49408, 768)\n",
      "      (position_embedding): Embedding(77, 768)\n",
      "    )\n",
      "    (encoder): CLIPEncoder(\n",
      "      (layers): ModuleList(\n",
      "        (0-11): 12 x CLIPEncoderLayer(\n",
      "          (self_attn): CLIPAttention(\n",
      "            (k_proj): Linear(in_features=768, out_features=768, bias=True)\n",
      "            (v_proj): Linear(in_features=768, out_features=768, bias=True)\n",
      "            (q_proj): Linear(in_features=768, out_features=768, bias=True)\n",
      "            (out_proj): Linear(in_features=768, out_features=768, bias=True)\n",
      "          )\n",
      "          (layer_norm1): LayerNorm((768,), eps=1e-05, elementwise_affine=True)\n",
      "          (mlp): CLIPMLP(\n",
      "            (activation_fn): QuickGELUActivation()\n",
      "            (fc1): Linear(in_features=768, out_features=3072, bias=True)\n",
      "            (fc2): Linear(in_features=3072, out_features=768, bias=True)\n",
      "          )\n",
      "          (layer_norm2): LayerNorm((768,), eps=1e-05, elementwise_affine=True)\n",
      "        )\n",
      "      )\n",
      "    )\n",
      "    (final_layer_norm): LayerNorm((768,), eps=1e-05, elementwise_affine=True)\n",
      "  )\n",
      "  (text_projection): Linear(in_features=768, out_features=768, bias=False)\n",
      ")\n"
     ]
    }
   ],
   "source": [
    "# print out the text model's architecture\n",
    "print(textModel)"
   ]
  },
  {
   "cell_type": "code",
   "execution_count": 5,
   "metadata": {},
   "outputs": [],
   "source": [
    "text = \"A photo of a cat and a dog.\"\n",
    "\n",
    "inputs = tokenizer(text, return_tensors=\"pt\", padding=True)\n",
    "outputs = textModel(**inputs)\n"
   ]
  },
  {
   "cell_type": "code",
   "execution_count": 6,
   "metadata": {},
   "outputs": [
    {
     "data": {
      "text/plain": [
       "transformers.models.clip.modeling_clip.CLIPTextModelOutput"
      ]
     },
     "execution_count": 6,
     "metadata": {},
     "output_type": "execute_result"
    }
   ],
   "source": [
    "type(outputs)"
   ]
  },
  {
   "cell_type": "code",
   "execution_count": 7,
   "metadata": {},
   "outputs": [
    {
     "name": "stdout",
     "output_type": "stream",
     "text": [
      "Text features: torch.Size([1, 11, 768])\n",
      "Text features: tensor([[[-0.3884,  0.0229, -0.0522,  ..., -0.4899, -0.3066,  0.0675],\n",
      "         [ 0.0290, -1.3258,  0.3085,  ..., -0.5257,  0.9768,  0.6652],\n",
      "         [ 1.1565,  0.1318,  0.7895,  ..., -2.1024, -1.1519, -0.3311],\n",
      "         ...,\n",
      "         [-1.3661,  0.4994,  2.1031,  ..., -1.2776, -0.5481, -0.0732],\n",
      "         [-1.1322,  1.0092,  2.5098,  ..., -0.7523, -0.4378,  0.4130],\n",
      "         [-1.5944,  0.8174,  3.0335,  ...,  0.6500, -0.5789, -0.0236]]],\n",
      "       grad_fn=<NativeLayerNormBackward0>)\n",
      "poller output:  torch.Size([1, 768])\n",
      "poller output:  tensor([[ 1.1577e-01,  2.7692e-01,  3.2398e-01, -1.9000e-01,  6.5517e-01,\n",
      "          1.0890e-01,  6.6157e-01, -5.1472e-02, -9.7006e-02, -5.8035e-01,\n",
      "         -1.5322e-01, -3.2100e-01,  1.5443e-01,  2.4305e-01, -1.0212e-01,\n",
      "          2.0283e-02,  7.2655e-02,  1.3206e-01, -4.8887e-01,  1.2021e-01,\n",
      "         -2.6471e-01,  1.0733e-01,  3.5001e-01,  7.7082e-01, -2.2825e-01,\n",
      "         -7.4334e-02, -5.6145e-01, -9.2628e-01, -5.2056e-02,  1.8628e-03,\n",
      "         -2.2817e-01, -3.0598e-02, -2.2869e-01, -3.2071e-01, -5.3694e-01,\n",
      "          1.0571e-02, -1.4844e-01, -1.9565e-02,  9.3961e-02, -1.4977e-01,\n",
      "         -2.5774e-01,  3.7350e-01, -1.7400e-01, -2.9082e-01,  7.1765e-02,\n",
      "          2.7628e-01, -2.4435e-01,  3.5425e-01,  2.6154e-02, -5.4318e-02,\n",
      "         -8.4155e-02, -4.2859e-01,  3.0949e-01,  4.7480e-01, -9.4457e-02,\n",
      "         -1.4590e-02, -7.8777e-02,  1.4983e-01, -1.6978e-01, -2.8723e-01,\n",
      "          6.0807e-01, -4.5357e-01,  2.7480e-01,  2.4997e-01, -3.6728e-01,\n",
      "          2.0176e-01,  1.6438e-01,  7.3227e-02,  3.3057e-01, -1.2820e-01,\n",
      "         -6.8987e-02,  3.2384e-01, -7.9466e-02,  9.2616e-02, -6.1005e-01,\n",
      "          4.4964e-01, -7.6276e-01, -2.3667e-01, -1.0431e-01, -1.0686e-01,\n",
      "         -1.4552e-01, -3.4161e-01,  5.0426e-02,  5.5646e-01, -1.2511e-01,\n",
      "         -1.0914e-01, -1.2836e-01, -2.1692e-01, -1.6160e-01,  7.2867e-02,\n",
      "          1.1560e-02, -2.1980e-01,  6.2110e-01,  6.6156e-02, -6.9145e-02,\n",
      "         -5.2638e-01, -6.9052e-01, -9.2913e-02,  5.0331e-01,  2.0708e-01,\n",
      "         -9.5231e-02,  8.3133e-01, -3.2857e-01, -1.4110e-01,  1.3265e-01,\n",
      "          1.6822e-01, -5.6238e-01, -1.9552e-01, -2.4426e-01,  7.3146e-01,\n",
      "         -7.3059e-02,  5.6048e-01,  7.3410e-01, -1.3135e-01, -3.9217e-01,\n",
      "          1.7045e-01, -4.7517e-01, -1.2155e-01,  3.9073e-02,  1.2231e-01,\n",
      "         -5.7365e-01, -9.8513e-02,  2.7522e-02,  3.0820e-01,  1.8693e-02,\n",
      "          4.1982e-01,  1.2596e-01,  1.7557e-01, -9.6473e-01, -3.2468e-01,\n",
      "         -2.6851e-01, -3.7290e-01,  9.1590e-02, -5.8174e-01, -3.2062e-01,\n",
      "          2.7259e-02, -4.3737e-02,  1.0012e+00, -6.0250e-03, -5.7964e-01,\n",
      "          2.1360e-01, -2.9601e-01, -3.5628e-01,  1.0696e-01,  2.0268e-01,\n",
      "         -1.8461e-01,  5.3787e-01,  3.6245e-02,  4.6929e-01, -1.7768e-01,\n",
      "         -2.2405e-01,  9.7182e-02,  1.1554e-01,  2.7990e-01,  7.4125e-02,\n",
      "         -4.6159e-01,  8.8369e-02,  3.5498e-01, -1.5947e-01,  1.3630e-01,\n",
      "          1.4218e-03,  1.6992e-02,  2.7221e-01,  3.0566e-01,  2.0316e-01,\n",
      "         -5.3762e-01, -5.4671e-01,  3.5127e-02,  8.4336e-01,  3.0348e-01,\n",
      "         -4.3221e-01,  3.2247e-01, -5.8061e-01, -2.7478e-02, -3.4509e-01,\n",
      "         -1.7787e-01,  2.9787e-01, -1.9473e-01,  2.0763e-01, -4.6251e-01,\n",
      "         -4.5817e-01, -2.7244e-01, -7.5630e-01,  1.1223e-01, -2.4236e-02,\n",
      "         -2.6360e-01,  1.4721e-02, -8.0937e-02, -4.9647e-01,  3.5297e-01,\n",
      "          6.1748e-02,  7.7104e-01,  4.7402e-01, -5.3289e-01, -9.3528e-01,\n",
      "         -8.0587e-01,  1.4128e-01,  5.8186e-01, -2.8560e-01, -9.5273e-03,\n",
      "          4.3629e-01,  3.9960e-01,  7.0025e-01,  4.4107e-01,  7.7910e-01,\n",
      "         -5.1160e-01,  8.5698e-01, -2.0080e-01,  1.2307e-01,  3.6807e-01,\n",
      "         -2.7270e-01, -2.4653e-01,  2.7867e-01,  1.0661e-01, -5.6758e-02,\n",
      "          2.3081e-01,  6.0850e-01,  4.0654e-01,  5.0871e-01,  5.6034e-01,\n",
      "         -5.7738e-01,  8.1120e-01,  5.5169e-01,  7.1909e-02, -4.2618e-01,\n",
      "         -6.2324e-02, -2.8905e-01,  2.6529e-01, -1.9168e-01, -1.0836e+00,\n",
      "         -2.8271e-01, -3.9173e-02, -5.0849e-01, -2.2103e-01,  2.9651e-03,\n",
      "          6.6618e-01, -4.5516e-01, -8.2528e-01,  1.7471e-01,  1.5214e-01,\n",
      "         -2.2791e-02, -4.8548e-01, -4.0243e-01, -5.7360e-01, -4.6759e-01,\n",
      "          4.7083e-04, -1.8450e-02, -5.3315e-01, -8.4013e-01, -2.2470e-01,\n",
      "          2.9283e-01,  3.7616e-01, -1.3862e-01,  2.5698e-01, -1.9412e-01,\n",
      "          1.3988e-01,  6.7480e-01,  7.8837e-02,  4.8287e-01,  4.7530e-01,\n",
      "         -8.3866e-02,  7.4587e-01, -1.9437e-01,  5.7974e-01, -2.1876e-01,\n",
      "          6.0293e-01, -5.2012e-01, -6.6684e-01,  2.5139e-01, -1.9909e-01,\n",
      "         -1.4244e-01,  2.1024e-01,  2.6665e-01, -5.4706e-01,  2.9725e-01,\n",
      "         -1.3688e-01, -5.8142e-01, -6.1998e-02, -3.7384e-01, -6.6765e-01,\n",
      "          3.1921e-02,  5.5399e-01,  4.2857e-01,  3.0343e-01, -1.5412e-01,\n",
      "         -1.5399e-01, -2.7417e-01,  2.2209e-02,  1.7400e-01,  3.3609e-01,\n",
      "         -7.7812e-01, -8.2542e-01,  4.5610e-01, -1.2813e-01,  2.6185e-01,\n",
      "         -7.3839e-01,  6.0796e-01,  4.1504e-01,  3.0453e-01,  8.5632e-01,\n",
      "         -2.8536e-01,  6.8227e-02, -2.4381e-01,  1.9724e-02, -4.3214e-02,\n",
      "         -1.2023e-02, -6.9118e-02,  3.6764e-01, -7.1199e-02, -3.0803e-01,\n",
      "          3.0551e-01,  2.1961e-01,  2.1819e-01,  6.6206e-02,  3.0857e-02,\n",
      "         -3.1181e-01, -7.5371e+00, -7.1951e-01,  1.2340e-01, -3.9928e-01,\n",
      "         -5.9141e-01, -4.3962e-01,  2.5865e-02, -2.7760e-01, -3.9415e-01,\n",
      "          9.7987e-01,  1.0972e-01, -1.9163e-01, -1.6097e-01,  2.1583e-01,\n",
      "          1.5349e-01,  2.1921e-01,  3.2292e-02,  7.9176e-02, -1.2120e-01,\n",
      "          4.1164e-01,  2.2104e-01,  1.4137e-01,  1.3461e-01,  3.1968e-01,\n",
      "          8.4624e-02,  1.0948e-01, -1.3589e-01, -3.7185e-02, -5.2412e-01,\n",
      "          1.2318e-01,  2.0072e-01,  1.0993e-01,  1.0647e+00, -6.1287e-01,\n",
      "          6.3126e-01,  9.6203e-02,  1.9937e-01, -2.7246e-01, -2.6476e-01,\n",
      "          2.2893e-01,  3.1937e-01, -1.1386e+00, -1.3078e-01,  1.3686e-01,\n",
      "         -3.0202e-01,  1.2700e-01,  7.7199e-01, -1.2620e-01,  2.0571e-01,\n",
      "          1.8702e-01,  2.1280e-02, -4.4860e-01,  4.2816e-01, -4.4306e-02,\n",
      "          1.5257e-01, -5.4494e-01, -5.1624e-01, -3.0980e-01, -2.6584e-01,\n",
      "          2.0480e-01,  3.1976e-01, -9.0917e-02,  1.9243e-01,  1.0762e-01,\n",
      "          6.5168e-01,  6.6293e-02,  3.7606e-02,  1.9788e-02, -1.6854e-01,\n",
      "         -2.2974e-01,  4.3636e-01,  1.3616e-01, -1.1905e-01,  7.9536e-01,\n",
      "         -2.0020e-01, -1.0845e-01, -3.4728e-01, -1.1051e-01,  7.6466e-02,\n",
      "         -2.8199e-01, -1.6788e-01, -1.9824e-01,  1.6601e-01, -1.6435e-01,\n",
      "         -3.0402e-01, -6.9696e-01, -2.5264e-01, -1.4038e-01,  5.7703e-01,\n",
      "         -6.1061e-02,  9.6161e-01,  2.0223e-01,  1.4842e-01, -1.8774e-01,\n",
      "          2.0762e-01, -5.2640e-01, -3.7537e-01, -6.4112e-01, -2.8848e-01,\n",
      "         -4.1139e-01, -2.6672e-01,  6.3085e-02,  1.3178e-01, -1.8759e-01,\n",
      "         -6.3094e-01, -2.4550e-01, -7.5707e-02, -1.9769e-01, -3.6787e-01,\n",
      "         -6.1596e-02, -1.3500e-01,  3.4840e-01, -3.5173e-01, -2.6660e-01,\n",
      "          8.4821e-02, -5.9448e-02,  5.5748e-01, -4.3840e-01, -1.0714e-03,\n",
      "          4.5906e-01, -1.0494e-01, -6.3731e-01, -2.2302e-01,  2.4982e-01,\n",
      "          7.2932e+00, -5.8690e-01,  2.8497e-01,  7.0772e-01, -2.9686e-01,\n",
      "         -1.4443e-01,  1.8412e-01, -1.1887e-01,  5.1046e-01,  1.1591e-02,\n",
      "          1.6513e-01,  1.9404e-01,  3.2971e-02,  5.4648e-01, -2.2595e-01,\n",
      "         -4.6478e-01, -4.1899e-01,  2.7127e-01, -3.3290e-01, -2.7147e-01,\n",
      "          2.3403e-01, -2.2770e-01,  5.0816e-01,  4.4184e-01,  2.0019e-01,\n",
      "         -9.1661e-02, -1.0757e-01, -2.4055e-01,  1.2635e-02, -2.7705e-01,\n",
      "          2.1136e-01, -3.0225e-01, -1.7088e-01,  8.3037e-01, -5.2862e-01,\n",
      "          2.7382e-01,  4.0855e-01, -7.5867e-01,  3.5902e-01,  2.7008e-02,\n",
      "         -5.4097e-01,  4.7283e-01,  2.2791e-01, -1.8702e-01,  9.8020e-02,\n",
      "          5.8971e-02,  1.1819e-01, -2.2169e-01,  1.5435e-01,  5.4005e-01,\n",
      "         -4.9178e-01, -5.2437e-01, -6.2608e-01, -1.8099e-01, -1.2031e-01,\n",
      "          2.6843e-01, -2.3922e-02, -1.7393e-01, -4.6181e-01, -1.8384e-01,\n",
      "          1.4166e+00, -7.3190e-02, -2.0080e-01,  6.9900e-02,  2.5397e-02,\n",
      "          3.5644e-01,  3.9850e-01,  6.3571e-01, -2.5639e-01,  5.5808e-01,\n",
      "          3.0464e-01, -4.4017e-01,  4.6030e-01, -7.9991e-01,  4.3138e-01,\n",
      "          9.2453e-02,  2.3867e-01, -3.8971e-01,  2.6092e-01,  3.4537e-01,\n",
      "         -3.8811e-01,  3.9718e-01, -2.9415e-01, -6.0555e-02, -2.5760e-01,\n",
      "         -5.0995e-01,  5.6328e-01, -6.0960e-01, -7.4701e-01,  4.5534e-01,\n",
      "          4.7595e-01,  4.7783e-01, -5.9030e-01,  2.3956e-01,  2.9106e-01,\n",
      "         -3.7342e-02, -6.2104e-01,  4.0337e-01, -5.6978e-01,  3.1873e-01,\n",
      "         -6.6914e-01,  2.7965e-01,  4.9905e-01,  6.1775e-01, -4.5804e-01,\n",
      "          3.1574e-01,  3.6460e-01,  7.1962e-02,  4.0820e-01,  6.2177e-01,\n",
      "         -9.1428e-01, -8.4755e-02,  1.0283e-01, -4.1654e-01, -1.2570e-01,\n",
      "          5.8749e-02, -9.9899e-01, -2.9729e-01,  4.6425e-01, -2.1442e-01,\n",
      "          8.6834e-01,  1.2053e-01,  3.5103e-02, -2.4482e-01, -7.2559e-01,\n",
      "          8.6392e-01,  5.3341e-01, -8.8166e-04, -4.9239e-01,  7.8700e-01,\n",
      "         -5.3732e-02, -5.6632e-01, -3.6577e-01, -3.1697e-02,  6.0702e-01,\n",
      "          1.8081e-02, -6.4560e-02,  5.1897e-02,  5.3633e-01, -1.9710e-01,\n",
      "          1.4013e-01, -2.8799e-01,  1.3805e-01,  4.4985e-01,  3.1984e-01,\n",
      "         -6.4764e-02,  3.4311e-01,  4.0943e-01, -2.7904e-01,  5.0218e-01,\n",
      "         -1.8096e-01, -3.9484e-01, -1.8972e-01,  2.2652e-01,  1.7624e-01,\n",
      "         -2.3686e-01, -7.5284e-02, -4.3819e-01, -1.8829e-01, -6.5922e-02,\n",
      "          9.2162e-02, -2.0483e-01, -5.3076e-02,  7.5715e-02, -5.5680e-01,\n",
      "         -5.9325e-01, -4.5732e-01,  5.1241e-02, -6.5137e-01, -4.4978e-03,\n",
      "         -5.4500e-02, -4.9506e-01,  7.5544e-02, -1.4327e-01,  3.4006e-01,\n",
      "          1.5508e-02,  1.9082e-02, -2.2691e-01, -9.9148e-02,  4.1983e-01,\n",
      "         -1.8146e-01,  8.3317e-01, -6.2583e-02, -1.4527e-01, -2.6222e-01,\n",
      "          5.8214e-01, -8.2609e-01, -6.2084e-01, -2.2396e-01, -1.9703e-01,\n",
      "         -2.8481e-02,  7.5474e-01, -2.2434e-01,  1.8577e-01,  4.3819e-01,\n",
      "          8.8506e-02,  3.3887e-01, -4.7427e-01,  4.9252e-01, -3.5827e-01,\n",
      "         -4.1025e-01, -3.3831e-01,  6.6613e-02,  1.4958e-01,  6.4279e-01,\n",
      "         -8.8102e-01,  6.0682e-01, -1.3515e-01,  6.2561e-01, -4.2725e-01,\n",
      "         -3.8925e-01, -4.2975e-01, -3.3848e-01, -3.2000e-01, -9.9660e-01,\n",
      "          7.2636e-01,  2.6227e-03, -6.4006e-01, -4.3208e-01,  9.1590e-01,\n",
      "         -5.9644e-01, -5.1247e-01, -6.8567e-01,  1.5829e-01, -2.0558e-01,\n",
      "         -1.9786e-01, -6.8161e-03, -8.6796e-02, -3.8528e-01,  4.8755e-01,\n",
      "         -3.7710e-01, -1.9018e-01, -1.1393e+00, -5.6929e-01,  4.7482e-02,\n",
      "         -4.4682e-01, -7.8640e-02,  6.2333e-01, -2.8731e-02, -1.4336e-01,\n",
      "          1.9582e-01, -4.1539e-01,  6.7913e-02,  1.8964e-01, -1.7742e-01,\n",
      "          6.3997e-01,  4.9742e-01,  3.0343e-01, -7.4434e-02, -5.5408e-01,\n",
      "          3.4014e-01, -4.5241e-01, -4.4044e-01, -1.4619e-01, -2.5505e-02,\n",
      "          1.7801e-01, -1.2318e-01,  2.3394e-01, -2.0300e-04,  7.9130e-02,\n",
      "         -4.9593e-01,  2.2297e-01, -3.1722e-01, -1.1036e+00, -4.2466e-01,\n",
      "          5.7404e-01,  5.0586e-01,  4.0871e-02, -1.9083e-01, -4.0551e-01,\n",
      "         -1.9081e-01, -1.7237e-01,  2.0522e-01,  5.4455e-01,  6.5511e-01,\n",
      "         -3.6217e-02,  1.1361e-01, -9.6436e-02, -5.2373e-01, -2.7362e-01,\n",
      "          1.4324e-01,  1.6998e-01, -1.8169e-01,  3.1306e-01,  8.7956e-01,\n",
      "          2.7744e-01,  3.9502e-01,  1.7365e-01, -5.7828e-01,  2.5431e-01,\n",
      "          3.9103e-01,  6.4794e-01,  2.6518e-01, -2.0891e-01,  2.2737e-01,\n",
      "          1.5768e-02,  3.0556e-01, -1.0175e+00,  3.5608e-01, -8.5134e-01,\n",
      "         -1.2535e-01,  1.1608e-01,  2.5237e-01, -2.9501e-01, -1.8265e-01,\n",
      "          2.2618e-02,  7.9974e-01, -2.6590e-01,  3.4237e-01, -6.9842e-01,\n",
      "          1.8545e-01,  5.9783e-01,  5.1905e-02,  5.4406e-01,  6.1314e-01,\n",
      "         -2.6034e-01,  2.4317e-01,  6.0602e-02, -3.2461e-01, -3.7755e-01,\n",
      "          5.9937e-02,  3.6131e-02,  3.0773e-01,  2.7655e-01, -4.1450e-01,\n",
      "          2.5552e-01,  1.4736e-01, -6.3637e-01]], grad_fn=<MmBackward0>)\n"
     ]
    }
   ],
   "source": [
    "\n",
    "print(f\"Text features: {outputs.last_hidden_state.shape}\")\n",
    "print(f\"Text features: {outputs.last_hidden_state}\")\n",
    "\n",
    "print(f\"poller output:  {outputs.text_embeds.shape}\")\n",
    "print(f\"poller output:  {outputs.text_embeds}\")\n"
   ]
  },
  {
   "cell_type": "code",
   "execution_count": 8,
   "metadata": {},
   "outputs": [],
   "source": [
    "\n",
    "from transformers import CLIPImageProcessor, CLIPVisionModelWithProjection\n",
    "image_processor = CLIPImageProcessor.from_pretrained(\"openai/clip-vit-large-patch14\")\n",
    "vision_model = CLIPVisionModelWithProjection.from_pretrained(\"openai/clip-vit-large-patch14\")"
   ]
  },
  {
   "cell_type": "code",
   "execution_count": 9,
   "metadata": {},
   "outputs": [
    {
     "name": "stdout",
     "output_type": "stream",
     "text": [
      "CLIPImageProcessor {\n",
      "  \"crop_size\": {\n",
      "    \"height\": 224,\n",
      "    \"width\": 224\n",
      "  },\n",
      "  \"do_center_crop\": true,\n",
      "  \"do_convert_rgb\": true,\n",
      "  \"do_normalize\": true,\n",
      "  \"do_rescale\": true,\n",
      "  \"do_resize\": true,\n",
      "  \"image_mean\": [\n",
      "    0.48145466,\n",
      "    0.4578275,\n",
      "    0.40821073\n",
      "  ],\n",
      "  \"image_processor_type\": \"CLIPImageProcessor\",\n",
      "  \"image_std\": [\n",
      "    0.26862954,\n",
      "    0.26130258,\n",
      "    0.27577711\n",
      "  ],\n",
      "  \"resample\": 3,\n",
      "  \"rescale_factor\": 0.00392156862745098,\n",
      "  \"size\": {\n",
      "    \"shortest_edge\": 224\n",
      "  }\n",
      "}\n",
      "\n"
     ]
    }
   ],
   "source": [
    "print(image_processor)"
   ]
  },
  {
   "cell_type": "code",
   "execution_count": 10,
   "metadata": {},
   "outputs": [
    {
     "name": "stdout",
     "output_type": "stream",
     "text": [
      "CLIPVisionModelWithProjection(\n",
      "  (vision_model): CLIPVisionTransformer(\n",
      "    (embeddings): CLIPVisionEmbeddings(\n",
      "      (patch_embedding): Conv2d(3, 1024, kernel_size=(14, 14), stride=(14, 14), bias=False)\n",
      "      (position_embedding): Embedding(257, 1024)\n",
      "    )\n",
      "    (pre_layrnorm): LayerNorm((1024,), eps=1e-05, elementwise_affine=True)\n",
      "    (encoder): CLIPEncoder(\n",
      "      (layers): ModuleList(\n",
      "        (0-23): 24 x CLIPEncoderLayer(\n",
      "          (self_attn): CLIPAttention(\n",
      "            (k_proj): Linear(in_features=1024, out_features=1024, bias=True)\n",
      "            (v_proj): Linear(in_features=1024, out_features=1024, bias=True)\n",
      "            (q_proj): Linear(in_features=1024, out_features=1024, bias=True)\n",
      "            (out_proj): Linear(in_features=1024, out_features=1024, bias=True)\n",
      "          )\n",
      "          (layer_norm1): LayerNorm((1024,), eps=1e-05, elementwise_affine=True)\n",
      "          (mlp): CLIPMLP(\n",
      "            (activation_fn): QuickGELUActivation()\n",
      "            (fc1): Linear(in_features=1024, out_features=4096, bias=True)\n",
      "            (fc2): Linear(in_features=4096, out_features=1024, bias=True)\n",
      "          )\n",
      "          (layer_norm2): LayerNorm((1024,), eps=1e-05, elementwise_affine=True)\n",
      "        )\n",
      "      )\n",
      "    )\n",
      "    (post_layernorm): LayerNorm((1024,), eps=1e-05, elementwise_affine=True)\n",
      "  )\n",
      "  (visual_projection): Linear(in_features=1024, out_features=768, bias=False)\n",
      ")\n"
     ]
    }
   ],
   "source": [
    "print(vision_model)"
   ]
  },
  {
   "cell_type": "code",
   "execution_count": 11,
   "metadata": {},
   "outputs": [],
   "source": [
    "import requests\n",
    "from PIL import Image\n",
    "\n",
    "url = \"http://images.cocodataset.org/val2017/000000039769.jpg\"\n",
    "\n",
    "image = Image.open(requests.get(url, stream=True).raw)\n",
    "image.show()"
   ]
  },
  {
   "cell_type": "code",
   "execution_count": 12,
   "metadata": {},
   "outputs": [],
   "source": [
    "image = image_processor.preprocess(image)"
   ]
  },
  {
   "cell_type": "code",
   "execution_count": 13,
   "metadata": {},
   "outputs": [
    {
     "name": "stdout",
     "output_type": "stream",
     "text": [
      "(3, 224, 224)\n"
     ]
    }
   ],
   "source": [
    "print(image['pixel_values'][0].shape)"
   ]
  },
  {
   "cell_type": "code",
   "execution_count": 14,
   "metadata": {},
   "outputs": [],
   "source": [
    "output = vision_model(torch.tensor(image['pixel_values'][0]).unsqueeze(0))"
   ]
  },
  {
   "cell_type": "code",
   "execution_count": 15,
   "metadata": {},
   "outputs": [
    {
     "data": {
      "text/plain": [
       "torch.Size([1, 257, 1024])"
      ]
     },
     "execution_count": 15,
     "metadata": {},
     "output_type": "execute_result"
    }
   ],
   "source": [
    "output.last_hidden_state.shape"
   ]
  },
  {
   "cell_type": "code",
   "execution_count": 16,
   "metadata": {},
   "outputs": [
    {
     "data": {
      "text/plain": [
       "torch.Size([1, 768])"
      ]
     },
     "execution_count": 16,
     "metadata": {},
     "output_type": "execute_result"
    }
   ],
   "source": [
    "output.image_embeds.shape"
   ]
  },
  {
   "cell_type": "code",
   "execution_count": 33,
   "metadata": {},
   "outputs": [],
   "source": [
    "from model.seq2seq_encoder_modleing import CustomTransformerDecoder\n",
    "\n",
    "# Import the parent module\n",
    "import model.seq2seq_encoder_modleing\n",
    "\n",
    "# Reload the parent module\n",
    "import importlib\n",
    "importlib.reload(model.seq2seq_encoder_modleing)\n",
    "\n",
    "# Re-import the updated class if necessary\n",
    "from model.seq2seq_encoder_modleing import CustomTransformerDecoder"
   ]
  },
  {
   "cell_type": "code",
   "execution_count": 34,
   "metadata": {},
   "outputs": [
    {
     "ename": "AssertionError",
     "evalue": "embed_dim must be divisible by num_heads",
     "output_type": "error",
     "traceback": [
      "\u001b[1;31m---------------------------------------------------------------------------\u001b[0m",
      "\u001b[1;31mAssertionError\u001b[0m                            Traceback (most recent call last)",
      "Cell \u001b[1;32mIn[34], line 1\u001b[0m\n\u001b[1;32m----> 1\u001b[0m model \u001b[38;5;241m=\u001b[39m \u001b[43mCustomTransformerDecoder\u001b[49m\u001b[43m(\u001b[49m\u001b[38;5;241;43m128\u001b[39;49m\u001b[43m,\u001b[49m\u001b[43m \u001b[49m\u001b[38;5;241;43m8\u001b[39;49m\u001b[43m,\u001b[49m\u001b[43m \u001b[49m\u001b[38;5;241;43m1024\u001b[39;49m\u001b[43m,\u001b[49m\u001b[43m \u001b[49m\u001b[38;5;241;43m0.1\u001b[39;49m\u001b[43m,\u001b[49m\u001b[43m \u001b[49m\u001b[38;5;241;43m6\u001b[39;49m\u001b[43m)\u001b[49m\n",
      "File \u001b[1;32mc:\\Users\\Nech\\projects\\python_projects\\AdaImgEncoder\\AdaImgEncoder\\model\\seq2seq_encoder_modleing.py:55\u001b[0m, in \u001b[0;36mCustomTransformerDecoder.__init__\u001b[1;34m(self, d_model, nhead, dim_feedforward, dropout, num_layers, norm)\u001b[0m\n\u001b[0;32m     54\u001b[0m \u001b[38;5;28;01mdef\u001b[39;00m \u001b[38;5;21m__init__\u001b[39m(\u001b[38;5;28mself\u001b[39m, d_model, nhead, dim_feedforward, dropout, num_layers, norm\u001b[38;5;241m=\u001b[39m\u001b[38;5;28;01mNone\u001b[39;00m):\n\u001b[1;32m---> 55\u001b[0m     decoder_layer \u001b[38;5;241m=\u001b[39m \u001b[43mCustomTransformerDecoderLayer\u001b[49m\u001b[43m(\u001b[49m\u001b[43md_model\u001b[49m\u001b[43m,\u001b[49m\u001b[43m \u001b[49m\u001b[43mnhead\u001b[49m\u001b[43m,\u001b[49m\u001b[43m \u001b[49m\u001b[43mdim_feedforward\u001b[49m\u001b[43m,\u001b[49m\u001b[43m \u001b[49m\u001b[43mdropout\u001b[49m\u001b[43m)\u001b[49m\n\u001b[0;32m     56\u001b[0m     \u001b[38;5;28msuper\u001b[39m(CustomTransformerDecoder, \u001b[38;5;28mself\u001b[39m)\u001b[38;5;241m.\u001b[39m\u001b[38;5;21m__init__\u001b[39m(decoder_layer, num_layers, norm)\n",
      "File \u001b[1;32mc:\\Users\\Nech\\projects\\python_projects\\AdaImgEncoder\\AdaImgEncoder\\model\\seq2seq_encoder_modleing.py:15\u001b[0m, in \u001b[0;36mCustomTransformerDecoderLayer.__init__\u001b[1;34m(self, d_model, encoded_img_dim, nhead, dim_feedforward, dropout, norm_first)\u001b[0m\n\u001b[0;32m      8\u001b[0m \u001b[38;5;28;01mdef\u001b[39;00m \u001b[38;5;21m__init__\u001b[39m(\u001b[38;5;28mself\u001b[39m,\n\u001b[0;32m      9\u001b[0m              d_model,\n\u001b[0;32m     10\u001b[0m              encoded_img_dim,\n\u001b[1;32m   (...)\u001b[0m\n\u001b[0;32m     13\u001b[0m              dropout\u001b[38;5;241m=\u001b[39m\u001b[38;5;241m0.1\u001b[39m,\n\u001b[0;32m     14\u001b[0m              norm_first\u001b[38;5;241m=\u001b[39m\u001b[38;5;28;01mFalse\u001b[39;00m):\n\u001b[1;32m---> 15\u001b[0m     \u001b[38;5;28;43msuper\u001b[39;49m\u001b[43m(\u001b[49m\u001b[43mCustomTransformerDecoderLayer\u001b[49m\u001b[43m,\u001b[49m\u001b[43m \u001b[49m\u001b[38;5;28;43mself\u001b[39;49m\u001b[43m)\u001b[49m\u001b[38;5;241;43m.\u001b[39;49m\u001b[38;5;21;43m__init__\u001b[39;49m\u001b[43m(\u001b[49m\u001b[43md_model\u001b[49m\u001b[43m,\u001b[49m\u001b[43m \u001b[49m\u001b[43mnhead\u001b[49m\u001b[43m)\u001b[49m\n\u001b[0;32m     16\u001b[0m     \u001b[38;5;66;03m# Override the multihead_attn layer to attend to encoded image with different dim\u001b[39;00m\n\u001b[0;32m     17\u001b[0m     \u001b[38;5;28mself\u001b[39m\u001b[38;5;241m.\u001b[39mmultihead_attn \u001b[38;5;241m=\u001b[39m nn\u001b[38;5;241m.\u001b[39mMultiheadAttention(d_model, nhead, dropout\u001b[38;5;241m=\u001b[39mdropout,\n\u001b[0;32m     18\u001b[0m                                                 kdim\u001b[38;5;241m=\u001b[39mencoded_img_dim, vdim\u001b[38;5;241m=\u001b[39mencoded_img_dim)\n",
      "File \u001b[1;32mc:\\Users\\Nech\\anaconda3\\envs\\AdaImgEncoder\\Lib\\site-packages\\torch\\nn\\modules\\transformer.py:815\u001b[0m, in \u001b[0;36mTransformerDecoderLayer.__init__\u001b[1;34m(self, d_model, nhead, dim_feedforward, dropout, activation, layer_norm_eps, batch_first, norm_first, bias, device, dtype)\u001b[0m\n\u001b[0;32m    813\u001b[0m factory_kwargs \u001b[38;5;241m=\u001b[39m {\u001b[38;5;124m'\u001b[39m\u001b[38;5;124mdevice\u001b[39m\u001b[38;5;124m'\u001b[39m: device, \u001b[38;5;124m'\u001b[39m\u001b[38;5;124mdtype\u001b[39m\u001b[38;5;124m'\u001b[39m: dtype}\n\u001b[0;32m    814\u001b[0m \u001b[38;5;28msuper\u001b[39m()\u001b[38;5;241m.\u001b[39m\u001b[38;5;21m__init__\u001b[39m()\n\u001b[1;32m--> 815\u001b[0m \u001b[38;5;28mself\u001b[39m\u001b[38;5;241m.\u001b[39mself_attn \u001b[38;5;241m=\u001b[39m \u001b[43mMultiheadAttention\u001b[49m\u001b[43m(\u001b[49m\u001b[43md_model\u001b[49m\u001b[43m,\u001b[49m\u001b[43m \u001b[49m\u001b[43mnhead\u001b[49m\u001b[43m,\u001b[49m\u001b[43m \u001b[49m\u001b[43mdropout\u001b[49m\u001b[38;5;241;43m=\u001b[39;49m\u001b[43mdropout\u001b[49m\u001b[43m,\u001b[49m\u001b[43m \u001b[49m\u001b[43mbatch_first\u001b[49m\u001b[38;5;241;43m=\u001b[39;49m\u001b[43mbatch_first\u001b[49m\u001b[43m,\u001b[49m\n\u001b[0;32m    816\u001b[0m \u001b[43m                                    \u001b[49m\u001b[43mbias\u001b[49m\u001b[38;5;241;43m=\u001b[39;49m\u001b[43mbias\u001b[49m\u001b[43m,\u001b[49m\u001b[43m \u001b[49m\u001b[38;5;241;43m*\u001b[39;49m\u001b[38;5;241;43m*\u001b[39;49m\u001b[43mfactory_kwargs\u001b[49m\u001b[43m)\u001b[49m\n\u001b[0;32m    817\u001b[0m \u001b[38;5;28mself\u001b[39m\u001b[38;5;241m.\u001b[39mmultihead_attn \u001b[38;5;241m=\u001b[39m MultiheadAttention(d_model, nhead, dropout\u001b[38;5;241m=\u001b[39mdropout, batch_first\u001b[38;5;241m=\u001b[39mbatch_first,\n\u001b[0;32m    818\u001b[0m                                          bias\u001b[38;5;241m=\u001b[39mbias, \u001b[38;5;241m*\u001b[39m\u001b[38;5;241m*\u001b[39mfactory_kwargs)\n\u001b[0;32m    819\u001b[0m \u001b[38;5;66;03m# Implementation of Feedforward model\u001b[39;00m\n",
      "File \u001b[1;32mc:\\Users\\Nech\\anaconda3\\envs\\AdaImgEncoder\\Lib\\site-packages\\torch\\nn\\modules\\activation.py:1011\u001b[0m, in \u001b[0;36mMultiheadAttention.__init__\u001b[1;34m(self, embed_dim, num_heads, dropout, bias, add_bias_kv, add_zero_attn, kdim, vdim, batch_first, device, dtype)\u001b[0m\n\u001b[0;32m   1009\u001b[0m \u001b[38;5;28mself\u001b[39m\u001b[38;5;241m.\u001b[39mbatch_first \u001b[38;5;241m=\u001b[39m batch_first\n\u001b[0;32m   1010\u001b[0m \u001b[38;5;28mself\u001b[39m\u001b[38;5;241m.\u001b[39mhead_dim \u001b[38;5;241m=\u001b[39m embed_dim \u001b[38;5;241m/\u001b[39m\u001b[38;5;241m/\u001b[39m num_heads\n\u001b[1;32m-> 1011\u001b[0m \u001b[38;5;28;01massert\u001b[39;00m \u001b[38;5;28mself\u001b[39m\u001b[38;5;241m.\u001b[39mhead_dim \u001b[38;5;241m*\u001b[39m num_heads \u001b[38;5;241m==\u001b[39m \u001b[38;5;28mself\u001b[39m\u001b[38;5;241m.\u001b[39membed_dim, \u001b[38;5;124m\"\u001b[39m\u001b[38;5;124membed_dim must be divisible by num_heads\u001b[39m\u001b[38;5;124m\"\u001b[39m\n\u001b[0;32m   1013\u001b[0m \u001b[38;5;28;01mif\u001b[39;00m \u001b[38;5;129;01mnot\u001b[39;00m \u001b[38;5;28mself\u001b[39m\u001b[38;5;241m.\u001b[39m_qkv_same_embed_dim:\n\u001b[0;32m   1014\u001b[0m     \u001b[38;5;28mself\u001b[39m\u001b[38;5;241m.\u001b[39mq_proj_weight \u001b[38;5;241m=\u001b[39m Parameter(torch\u001b[38;5;241m.\u001b[39mempty((embed_dim, embed_dim), \u001b[38;5;241m*\u001b[39m\u001b[38;5;241m*\u001b[39mfactory_kwargs))\n",
      "\u001b[1;31mAssertionError\u001b[0m: embed_dim must be divisible by num_heads"
     ]
    }
   ],
   "source": [
    "model = CustomTransformerDecoder(128, 8, 1024, 0.1, 6)"
   ]
  }
 ],
 "metadata": {
  "kernelspec": {
   "display_name": "AdaImgEncoder",
   "language": "python",
   "name": "python3"
  },
  "language_info": {
   "codemirror_mode": {
    "name": "ipython",
    "version": 3
   },
   "file_extension": ".py",
   "mimetype": "text/x-python",
   "name": "python",
   "nbconvert_exporter": "python",
   "pygments_lexer": "ipython3",
   "version": "3.11.9"
  }
 },
 "nbformat": 4,
 "nbformat_minor": 2
}
